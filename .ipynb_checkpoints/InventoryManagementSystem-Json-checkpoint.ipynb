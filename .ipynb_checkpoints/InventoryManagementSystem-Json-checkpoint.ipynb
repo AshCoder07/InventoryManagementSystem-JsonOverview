{
 "cells": [
  {
   "cell_type": "code",
   "execution_count": 1,
   "id": "0b270f04",
   "metadata": {},
   "outputs": [
    {
     "name": "stdout",
     "output_type": "stream",
     "text": [
      "--------------MENU----------------\n",
      "\n",
      "1001 : Dairy Milk | 20 | 0\n",
      "1002 : 5 Star | 10 | 100\n",
      "1003 : Milky Bar | 15 | 0\n",
      "1004 : Gems | 5 | 95\n",
      "1005 : Cotton Candy | 12 | 100\n",
      "------------------------------------\n",
      "\n"
     ]
    },
    {
     "name": "stdin",
     "output_type": "stream",
     "text": [
      "Enter the Product ID:  1003\n",
      "Enter the Quantity:  5\n"
     ]
    },
    {
     "name": "stdout",
     "output_type": "stream",
     "text": [
      "Sorry, we don't have enough quantity\n",
      "We're having only 0 Quantity\n",
      "------------------------------------\n"
     ]
    },
    {
     "name": "stdin",
     "output_type": "stream",
     "text": [
      "Press 'y' if you want to purchase it or 'n' if you don't want it n\n"
     ]
    },
    {
     "name": "stdout",
     "output_type": "stream",
     "text": [
      "Thank you!\n"
     ]
    }
   ],
   "source": [
    "import json\n",
    "\n",
    "fd=open(\"Records.json\",'r')\n",
    "js=fd.read()\n",
    "fd.close()\n",
    "\n",
    "records=json.loads(js)\n",
    "print(\"--------------MENU----------------\\n\")\n",
    "for key in records.keys():\n",
    "    print(key,\":\",records[key][\"Name\"],\"|\",records[key][\"price\"],\"|\",records[key][\"Qn\"])\n",
    "print(\"------------------------------------\\n\")\n",
    "\n",
    "\n",
    "ui_pid=str(input(\"Enter the Product ID: \"))\n",
    "ui_quantity=int(input(\"Enter the Quantity: \"))\n",
    "\n",
    "if records[ui_pid]['Qn']>=ui_quantity:\n",
    "    \n",
    "    records[ui_pid]['Qn']=records[ui_pid]['Qn']-ui_quantity\n",
    "    \n",
    "    print(\"------------------------------------\")\n",
    "    print(\"              BILL                  \\n\")\n",
    "    print(\"Name           : \",records[ui_pid][\"Name\"])\n",
    "    print(\"Quantity       : \",ui_quantity)\n",
    "    print(\"Price          : \",records[ui_pid][\"price\"])\n",
    "    print(\"------------------------------------\")\n",
    "    print(\"Total          : \",ui_quantity*records[ui_pid][\"price\"])\n",
    "    print(\"------------------------------------\\n\")\n",
    "else:\n",
    "    print(\"Sorry, we don't have enough quantity\")\n",
    "    print(\"We're having only\",records[ui_pid]['Qn'],\"Quantity\")\n",
    "    print(\"------------------------------------\")\n",
    "    ch=str(input(\"Press 'y' if you want to purchase it or 'n' if you don't want it\"))\n",
    "    if ch=='y':\n",
    "            print(\"------------------------------------\")\n",
    "            print(\"              BILL                  \\n\")\n",
    "            print(\"Name           : \",records[ui_pid][\"Name\"])\n",
    "            print(\"Quantity       : \",records[ui_pid]['Qn'])\n",
    "            print(\"Price          : \",records[ui_pid][\"price\"])\n",
    "            print(\"------------------------------------\")\n",
    "            print(\"Total          : \",records[ui_pid]['Qn']*records[ui_pid][\"price\"])\n",
    "            print(\"------------------------------------\\n\")\n",
    "\n",
    "            records[ui_pid]['Qn']=0\n",
    "    else:\n",
    "        print(\"Thank you!\")\n",
    "js=json.dumps(records)\n",
    "fd=open(\"Records.json\",'w')\n",
    "fd.write(js)\n",
    "fd.close()"
   ]
  },
  {
   "cell_type": "code",
   "execution_count": null,
   "id": "05dd86a7-e8b1-4241-b2ba-e90ecdeedc5c",
   "metadata": {},
   "outputs": [],
   "source": []
  }
 ],
 "metadata": {
  "kernelspec": {
   "display_name": "Python 3 (ipykernel)",
   "language": "python",
   "name": "python3"
  },
  "language_info": {
   "codemirror_mode": {
    "name": "ipython",
    "version": 3
   },
   "file_extension": ".py",
   "mimetype": "text/x-python",
   "name": "python",
   "nbconvert_exporter": "python",
   "pygments_lexer": "ipython3",
   "version": "3.11.2"
  }
 },
 "nbformat": 4,
 "nbformat_minor": 5
}
