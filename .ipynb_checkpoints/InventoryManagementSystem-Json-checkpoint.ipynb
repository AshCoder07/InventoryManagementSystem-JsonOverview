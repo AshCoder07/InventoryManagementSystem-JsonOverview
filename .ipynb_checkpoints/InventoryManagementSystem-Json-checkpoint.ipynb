{
 "cells": [
  {
   "cell_type": "code",
   "execution_count": 18,
   "id": "0b270f04",
   "metadata": {},
   "outputs": [
    {
     "name": "stdout",
     "output_type": "stream",
     "text": [
      "--------------MENU----------------\n",
      "\n",
      "1001 : Dairy Milk | 20 | 100\n",
      "1002 : 5 Star | 10 | 100\n",
      "1003 : Milky Bar | 15 | 100\n",
      "1004 : Gems | 5 | 100\n",
      "1005 : Cotton Candy | 12 | 100\n",
      "------------------------------------\n",
      "\n"
     ]
    },
    {
     "name": "stdin",
     "output_type": "stream",
     "text": [
      "Enter the Product ID:  1005\n",
      "Enter the Quantity:  60\n"
     ]
    },
    {
     "name": "stdout",
     "output_type": "stream",
     "text": [
      "------------------------------------\n",
      "              BILL                  \n",
      "\n",
      "Name           :  Cotton Candy\n",
      "Quantity       :  60\n",
      "Price          :  12\n",
      "------------------------------------\n",
      "Total          :  720\n",
      "------------------------------------\n",
      "\n"
     ]
    }
   ],
   "source": [
    "import json\n",
    "records={1001:{\"Name\":\"Dairy Milk\",  \"price\":20,  \"Qn\":100},\n",
    "         1002:{\"Name\":\"5 Star\",      \"price\":10,  \"Qn\":100},\n",
    "         1003:{\"Name\":\"Milky Bar\",   \"price\":15,  \"Qn\":100},\n",
    "         1004:{\"Name\":\"Gems\",        \"price\":5,   \"Qn\":100},\n",
    "         1005:{\"Name\":\"Cotton Candy\",\"price\":12,  \"Qn\":100}}\n",
    "print(\"--------------MENU----------------\\n\")\n",
    "for key in records.keys():\n",
    "    print(key,\":\",records[key][\"Name\"],\"|\",records[key][\"price\"],\"|\",records[key][\"Qn\"])\n",
    "print(\"------------------------------------\\n\")\n",
    "\n",
    "\n",
    "ui_pid=int(input(\"Enter the Product ID: \"))\n",
    "ui_quantity=int(input(\"Enter the Quantity: \"))\n",
    "records[ui_pid]['Qn']=records[ui_pid]['Qn']-ui_quantity\n",
    "\n",
    "print(\"------------------------------------\")\n",
    "print(\"              BILL                  \\n\")\n",
    "print(\"Name           : \",records[ui_pid][\"Name\"])\n",
    "print(\"Quantity       : \",ui_quantity)\n",
    "print(\"Price          : \",records[ui_pid][\"price\"])\n",
    "print(\"------------------------------------\")\n",
    "print(\"Total          : \",ui_quantity*records[ui_pid][\"price\"])\n",
    "print(\"------------------------------------\\n\")\n",
    "\n",
    "js=json.dumps(records)\n",
    "\n",
    "fd=open(\"Records.json\",'w')\n",
    "fd.write(js)\n",
    "fd.close()"
   ]
  }
 ],
 "metadata": {
  "kernelspec": {
   "display_name": "Python 3 (ipykernel)",
   "language": "python",
   "name": "python3"
  },
  "language_info": {
   "codemirror_mode": {
    "name": "ipython",
    "version": 3
   },
   "file_extension": ".py",
   "mimetype": "text/x-python",
   "name": "python",
   "nbconvert_exporter": "python",
   "pygments_lexer": "ipython3",
   "version": "3.11.2"
  }
 },
 "nbformat": 4,
 "nbformat_minor": 5
}
